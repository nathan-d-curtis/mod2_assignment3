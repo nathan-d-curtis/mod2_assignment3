{
 "cells": [
  {
   "cell_type": "markdown",
   "id": "45a87d2e",
   "metadata": {},
   "source": [
    "Dictionaries\n",
    "\n",
    "Collection of data with \"key:value\" pairs. Dictionaries are ordered as of Python 3.6."
   ]
  },
  {
   "cell_type": "markdown",
   "id": "3a1f5b56",
   "metadata": {},
   "source": [
    "Declaring (key, value)\n",
    "Keys should be unique\n",
    "Can use numbers or strings as keys"
   ]
  },
  {
   "cell_type": "code",
   "execution_count": 11,
   "id": "8464a18f",
   "metadata": {},
   "outputs": [
    {
     "name": "stdout",
     "output_type": "stream",
     "text": [
      "{'dave': '255 Main Street', 'sean': '522 1st Street', 0: 'This is a value for the key of 0'}\n"
     ]
    }
   ],
   "source": [
    "dict_1 = {}\n",
    "\n",
    "# OR \n",
    "\n",
    "dict_2 = dict()\n",
    "\n",
    "# OR with data\n",
    "\n",
    "dict_3 = {\n",
    "    \"dave\": \"255 Main Street\",\n",
    "    \"sean\": \"522 1st Street\",\n",
    "    0: \"This is a value for the key of 0\",\n",
    "}\n",
    "\n",
    "print(dict_3)"
   ]
  },
  {
   "cell_type": "markdown",
   "id": "905e520c",
   "metadata": {},
   "source": [
    "Accessing Values"
   ]
  },
  {
   "cell_type": "code",
   "execution_count": 4,
   "id": "732cbea8",
   "metadata": {},
   "outputs": [
    {
     "data": {
      "text/plain": [
       "'This is a value for the key of 0'"
      ]
     },
     "execution_count": 4,
     "metadata": {},
     "output_type": "execute_result"
    }
   ],
   "source": [
    "# dict[key]\n",
    "# ^ this returns the value\n",
    "\n",
    "dict_3[\"dave\"]\n",
    "dict_3[0]"
   ]
  },
  {
   "cell_type": "markdown",
   "id": "fcce0fc3",
   "metadata": {},
   "source": [
    "In-Class Exercise #1 - Print a formatted statement from the dictionary below\n",
    "\n",
    "The output should be '2018 Chevrolet Silverado'"
   ]
  },
  {
   "cell_type": "code",
   "execution_count": 7,
   "id": "2859e08d",
   "metadata": {},
   "outputs": [
    {
     "name": "stdout",
     "output_type": "stream",
     "text": [
      "2018 Chevrolet Silverado\n"
     ]
    }
   ],
   "source": [
    "# use the dict below\n",
    "truck = {\n",
    "    'year': 2018,\n",
    "    'make': 'Chevrolet',\n",
    "    'model': 'Silverado'\n",
    "}\n",
    "\n",
    "print(f\"{truck['year']} {truck['make']} {truck['model']}\")"
   ]
  },
  {
   "cell_type": "markdown",
   "id": "a1e2c1db",
   "metadata": {},
   "source": [
    "Adding New Pairs"
   ]
  },
  {
   "cell_type": "code",
   "execution_count": 12,
   "id": "c8004059",
   "metadata": {},
   "outputs": [
    {
     "data": {
      "text/plain": [
       "{'dave': '255 Main Street',\n",
       " 'sean': '522 1st Street',\n",
       " 0: 'This is a value for the key of 0',\n",
       " 'bob': 'From Ohio'}"
      ]
     },
     "execution_count": 12,
     "metadata": {},
     "output_type": "execute_result"
    }
   ],
   "source": [
    "# dict[key] = value\n",
    "dict_3['bob'] = 'From Ohio'\n",
    "\n",
    "dict_3"
   ]
  },
  {
   "cell_type": "markdown",
   "id": "5a293423",
   "metadata": {},
   "source": [
    "Modifying Values"
   ]
  },
  {
   "cell_type": "code",
   "execution_count": 13,
   "id": "be6072af",
   "metadata": {},
   "outputs": [
    {
     "data": {
      "text/plain": [
       "{'dave': '255 Main Street',\n",
       " 'sean': '522 1st Street',\n",
       " 0: 'This is a value for the key of 0',\n",
       " 'bob': 'Nashville'}"
      ]
     },
     "execution_count": 13,
     "metadata": {},
     "output_type": "execute_result"
    }
   ],
   "source": [
    "# dict[key] = value\n",
    "dict_3['bob'] = 'Nashville'\n",
    "\n",
    "dict_3"
   ]
  },
  {
   "cell_type": "markdown",
   "id": "f1237b5f",
   "metadata": {},
   "source": [
    "Removing Key, Value Pairs"
   ]
  },
  {
   "cell_type": "code",
   "execution_count": 14,
   "id": "afeb00ed",
   "metadata": {},
   "outputs": [
    {
     "data": {
      "text/plain": [
       "{'dave': '255 Main Street',\n",
       " 'sean': '522 1st Street',\n",
       " 0: 'This is a value for the key of 0'}"
      ]
     },
     "execution_count": 14,
     "metadata": {},
     "output_type": "execute_result"
    }
   ],
   "source": [
    "# del dict['key']\n",
    "del dict_3['bob']\n",
    "\n",
    "dict_3"
   ]
  },
  {
   "cell_type": "markdown",
   "id": "a18425ce",
   "metadata": {},
   "source": [
    "Looping a Dictionary"
   ]
  },
  {
   "cell_type": "code",
   "execution_count": 15,
   "id": "d700d23f",
   "metadata": {},
   "outputs": [
    {
     "name": "stdout",
     "output_type": "stream",
     "text": [
      "dave 255 Main Street\n",
      "sean 522 1st Street\n",
      "0 This is a value for the key of 0\n"
     ]
    }
   ],
   "source": [
    "# .items()\n",
    "\n",
    "for key, value in dict_3.items():\n",
    "    print(key,value)"
   ]
  },
  {
   "cell_type": "markdown",
   "id": "4f01078b",
   "metadata": {},
   "source": [
    "Looping Only Keys"
   ]
  },
  {
   "cell_type": "code",
   "execution_count": 16,
   "id": "bdd0368a",
   "metadata": {},
   "outputs": [
    {
     "name": "stdout",
     "output_type": "stream",
     "text": [
      "dave\n",
      "sean\n",
      "0\n"
     ]
    }
   ],
   "source": [
    "# .keys()\n",
    "\n",
    "for key in dict_3.keys():\n",
    "    print(key)"
   ]
  },
  {
   "cell_type": "markdown",
   "id": "f1e68629",
   "metadata": {},
   "source": [
    "Looping Only Values"
   ]
  },
  {
   "cell_type": "code",
   "execution_count": 17,
   "id": "34880169",
   "metadata": {},
   "outputs": [
    {
     "name": "stdout",
     "output_type": "stream",
     "text": [
      "255 Main Street\n",
      "522 1st Street\n",
      "This is a value for the key of 0\n"
     ]
    }
   ],
   "source": [
    "# .values()\n",
    "\n",
    "for value in dict_3.values():\n",
    "    print(value)"
   ]
  },
  {
   "cell_type": "markdown",
   "id": "e2268bd8",
   "metadata": {},
   "source": [
    "In-Class Exercise #2 - Create a Function that Prints All Key Value Pairs within a print .format()\n",
    "\n",
    "Output should be:\n",
    "Max has blue eyes\n",
    "Lilly has brown eyes\n",
    "Barney has blue eyes\n",
    "etc."
   ]
  },
  {
   "cell_type": "code",
   "execution_count": 20,
   "id": "4be8b3d6",
   "metadata": {},
   "outputs": [
    {
     "name": "stdout",
     "output_type": "stream",
     "text": [
      "Max has blue eyes\n",
      "Lilly has brown eyes\n",
      "Barney has blue eyes\n",
      "Larney has brown eyes\n",
      "Ted has purple eyes\n"
     ]
    }
   ],
   "source": [
    "# use the dict below\n",
    "\n",
    "def printEyeColors(myDict):\n",
    "    for key, value in myDict.items():\n",
    "        print(\"{} has {} eyes\".format(key, value))\n",
    "\n",
    "people = {\n",
    "    'Max': 'blue',\n",
    "    'Lilly': 'brown',\n",
    "    'Barney': 'blue',\n",
    "    'Larney': 'brown',\n",
    "    'Ted': 'purple'\n",
    "}\n",
    "\n",
    "printEyeColors(people)"
   ]
  },
  {
   "cell_type": "markdown",
   "id": "881d5982",
   "metadata": {},
   "source": [
    "sorted()"
   ]
  },
  {
   "cell_type": "code",
   "execution_count": 24,
   "id": "2fc33202",
   "metadata": {},
   "outputs": [
    {
     "name": "stdout",
     "output_type": "stream",
     "text": [
      "[('Barney', 'blue'), ('Larney', 'brown'), ('Lilly', 'brown'), ('Max', 'blue'), ('Ted', 'purple')]\n",
      "['Barney', 'Larney', 'Lilly', 'Max', 'Ted']\n",
      "['blue', 'blue', 'brown', 'brown', 'purple']\n",
      "['blue', 'blue', 'brown', 'brown', 'purple']\n"
     ]
    }
   ],
   "source": [
    "# sorts variables in order\n",
    "# sorted(dict.values()) or dict.keys() or dict.items()\n",
    "\n",
    "print(sorted(people.items()))\n",
    "print(sorted(people.keys()))\n",
    "print(sorted(people.values()))\n",
    "\n",
    "new_variable = sorted(people.values())\n",
    "print(new_variable)"
   ]
  },
  {
   "cell_type": "markdown",
   "id": "e41127e1",
   "metadata": {},
   "source": [
    "List with Dictionaries"
   ]
  },
  {
   "cell_type": "code",
   "execution_count": 26,
   "id": "62a2e58a",
   "metadata": {},
   "outputs": [
    {
     "name": "stdout",
     "output_type": "stream",
     "text": [
      "Barbara\n",
      "random_guy\n",
      "random_girl\n"
     ]
    }
   ],
   "source": [
    "names = [\"Dave\", \"Randy\", \"Greg\", {\"random_guy\":\"Robert\", \"random_girl\": \"Barbara\"}]\n",
    "\n",
    "print(names[3][\"random_girl\"])\n",
    "\n",
    "# Get all the keys from a nested dictionary in a list\n",
    "\n",
    "for keys in names[3].keys():\n",
    "    print(keys)"
   ]
  },
  {
   "cell_type": "markdown",
   "id": "fd9bd077",
   "metadata": {},
   "source": [
    "Dictionaries with Lists"
   ]
  },
  {
   "cell_type": "code",
   "execution_count": 27,
   "id": "eea40179",
   "metadata": {},
   "outputs": [
    {
     "ename": "KeyError",
     "evalue": "1",
     "output_type": "error",
     "traceback": [
      "\u001b[0;31m---------------------------------------------------------------------------\u001b[0m",
      "\u001b[0;31mKeyError\u001b[0m                                  Traceback (most recent call last)",
      "\u001b[0;32m/var/folders/46/xgfkmqx548z2xc22t05jpgz80000gn/T/ipykernel_59523/2227418276.py\u001b[0m in \u001b[0;36m<module>\u001b[0;34m\u001b[0m\n\u001b[1;32m      8\u001b[0m }\n\u001b[1;32m      9\u001b[0m \u001b[0;34m\u001b[0m\u001b[0m\n\u001b[0;32m---> 10\u001b[0;31m \u001b[0mrandom_dict\u001b[0m\u001b[0;34m[\u001b[0m\u001b[0;36m1\u001b[0m\u001b[0;34m]\u001b[0m\u001b[0;34m\u001b[0m\u001b[0;34m\u001b[0m\u001b[0m\n\u001b[0m",
      "\u001b[0;31mKeyError\u001b[0m: 1"
     ]
    }
   ],
   "source": [
    "# be careful when using numbers as keys in dictionaries, don't confuse them with indexes\n",
    "\n",
    "random_dict = {\n",
    "    0: 'Zero',\n",
    "    3: 'One',\n",
    "    17: 'Two',\n",
    "    2: 'Three'\n",
    "}\n",
    "\n",
    "random_dict[1] # This will throw an error"
   ]
  },
  {
   "cell_type": "code",
   "execution_count": 29,
   "id": "277239ae",
   "metadata": {},
   "outputs": [
    {
     "name": "stdout",
     "output_type": "stream",
     "text": [
      "smith\n",
      "iPod\n",
      "water bottle\n"
     ]
    }
   ],
   "source": [
    "random_data = {\n",
    "    'list1': [54, 7, 11],\n",
    "    '2': ['smith', 'iPod', 'water bottle'],\n",
    "}\n",
    "\n",
    "for key in random_data['2']:\n",
    "    print(key)"
   ]
  },
  {
   "cell_type": "markdown",
   "id": "8de5550c",
   "metadata": {},
   "source": [
    "Dictionaries with Dictionaries"
   ]
  },
  {
   "cell_type": "code",
   "execution_count": 31,
   "id": "3032d3ea",
   "metadata": {},
   "outputs": [
    {
     "name": "stdout",
     "output_type": "stream",
     "text": [
      "3.99\n",
      "('CHO', 2.99)\n",
      "('VA', 3.99)\n",
      "('Oreo', 5.99)\n",
      "('PB', 6.99)\n"
     ]
    }
   ],
   "source": [
    "# to get values, must traverse through keys\n",
    "\n",
    "food_dict = {\n",
    "    'ice cream': {\n",
    "        \"CHO\": 2.99,\n",
    "        \"VA\": 3.99,\n",
    "        \"Oreo\": 5.99,\n",
    "        \"PB\": 6.99\n",
    "    }\n",
    "}\n",
    "\n",
    "print(food_dict['ice cream'][\"VA\"])\n",
    "\n",
    "for i in food_dict['ice cream'].items():\n",
    "    print(i)"
   ]
  },
  {
   "cell_type": "markdown",
   "id": "5e90e040",
   "metadata": {},
   "source": [
    "Dictionaries vs. Lists (over time) Example of RUNTIME\n",
    "\n",
    "When inputting values in a Dictionary vs List"
   ]
  },
  {
   "cell_type": "code",
   "execution_count": 32,
   "id": "e812d38e",
   "metadata": {},
   "outputs": [],
   "source": [
    "import time\n",
    "\n",
    "# generate fake dictionary\n",
    "d = {}\n",
    "\n",
    "for i in range(10000000):\n",
    "    d[i] = 'value'\n",
    "    \n",
    "# generate fake list\n",
    "big_list = [x for x in range(10000000)]"
   ]
  },
  {
   "cell_type": "code",
   "execution_count": 33,
   "id": "7f5bf0cb",
   "metadata": {},
   "outputs": [
    {
     "name": "stdout",
     "output_type": "stream",
     "text": [
      "value\n",
      "Elapsed time for dictionary: 0.01879286766052246\n",
      "9999999\n",
      "Elapsed time for list: 0.9024138450622559\n"
     ]
    }
   ],
   "source": [
    "# tracking time for dictionary\n",
    "start_time = time.time()\n",
    "\n",
    "print(d[9999999])\n",
    "\n",
    "end_time = time.time() - start_time\n",
    "\n",
    "print('Elapsed time for dictionary: {}'.format(end_time))\n",
    "\n",
    "# tracking time for list\n",
    "start_time = time.time()\n",
    "\n",
    "for i in range(len(big_list)):\n",
    "    if i == 9999999:\n",
    "        print(i)\n",
    "        \n",
    "end_time = time.time() - start_time\n",
    "\n",
    "print('Elapsed time for list: {}'.format(end_time))"
   ]
  },
  {
   "cell_type": "markdown",
   "id": "e66979c5",
   "metadata": {},
   "source": [
    "Exercise #3 - Write a function that asks someone's name and address, and then stores that into a dictionary, and continues to do so until they choose 'quit'. Once they quit, the program should print all names and addresses.\n",
    "\n",
    "Proper steps:\n",
    "step 1: write a function that takes in information and stores it in a dictionary.\n",
    "step 2: define an empty dictionary to work with.\n",
    "step 3: create our loop, which asks the user for information until they quit.\n",
    "step 4: ask for the information, and store it into variables.\n",
    "step 5: check if the user types quit.\n",
    "step 5a: print out all information.\n",
    "step 5b: break out of the loop.\n",
    "step 6: if they didn't quit, add the information to the dictionary.\n",
    "step 7: invoke the function by calling it."
   ]
  },
  {
   "cell_type": "code",
   "execution_count": 34,
   "id": "ba49cbf0",
   "metadata": {},
   "outputs": [
    {
     "name": "stdout",
     "output_type": "stream",
     "text": [
      "Enter your full name (or 'quit' to exit): Nathan Curtis\n",
      "Enter your full address: 123 Mist Flower St Dallas, TX\n",
      "Enter your full name (or 'quit' to exit): Carole Curtis\n",
      "Enter your full address: 215 Thunder Rd Santa Ana, CA\n",
      "Enter your full name (or 'quit' to exit): quit\n",
      "Nathan Curtis: 123 Mist Flower St Dallas, TX\n",
      "Carole Curtis: 215 Thunder Rd Santa Ana, CA\n"
     ]
    }
   ],
   "source": [
    "def storeNameWithAddress():\n",
    "    people = {}\n",
    "    while True:\n",
    "        name = input(\"Enter your full name (or 'quit' to exit): \")\n",
    "        if name == 'quit':\n",
    "            break\n",
    "        address = input(\"Enter your full address: \")\n",
    "        people[name] = address\n",
    "\n",
    "    for name, address in people.items():\n",
    "        print(\"{}: {}\".format(name, address))\n",
    "\n",
    "storeNameWithAddress()"
   ]
  },
  {
   "cell_type": "markdown",
   "id": "cdcb0751",
   "metadata": {},
   "source": [
    "Set\n",
    "\n",
    "A set is an unordered collection data type that is iterable (loop), mutable, and has no duplicate elements.\n",
    "Major advantage is that it is highly optimized in checking if something is in the set, as opposed to checking if something is in a list."
   ]
  },
  {
   "cell_type": "markdown",
   "id": "faf655eb",
   "metadata": {},
   "source": [
    "Declaring a set"
   ]
  },
  {
   "cell_type": "code",
   "execution_count": 35,
   "id": "ee61e013",
   "metadata": {},
   "outputs": [
    {
     "name": "stdout",
     "output_type": "stream",
     "text": [
      "{1, 4, 6}\n"
     ]
    }
   ],
   "source": [
    "# set() or {}\n",
    "# no order {3, 2, 1} outputs as {1, 2, 3}\n",
    "\n",
    "nums = {4,1,6,4}\n",
    "\n",
    "print(nums)"
   ]
  },
  {
   "cell_type": "markdown",
   "id": "3d2eca13",
   "metadata": {},
   "source": [
    ".add() to a set"
   ]
  },
  {
   "cell_type": "code",
   "execution_count": 36,
   "id": "3160a0f3",
   "metadata": {},
   "outputs": [
    {
     "name": "stdout",
     "output_type": "stream",
     "text": [
      "{56, 1, 4, 6}\n"
     ]
    }
   ],
   "source": [
    "# set.add()\n",
    "\n",
    "nums.add(56)\n",
    "print(nums)"
   ]
  },
  {
   "cell_type": "markdown",
   "id": "bd443451",
   "metadata": {},
   "source": [
    ".remove() data from a set"
   ]
  },
  {
   "cell_type": "code",
   "execution_count": 37,
   "id": "a3cffd44",
   "metadata": {},
   "outputs": [
    {
     "name": "stdout",
     "output_type": "stream",
     "text": [
      "{1, 4, 6}\n"
     ]
    }
   ],
   "source": [
    "# removes by value\n",
    "# set.remove()\n",
    "# nums.remove(56)\n",
    "\n",
    "nums.remove(56)\n",
    "print(nums)"
   ]
  },
  {
   "cell_type": "markdown",
   "id": "2ef33731",
   "metadata": {},
   "source": [
    ".union() of a set"
   ]
  },
  {
   "cell_type": "code",
   "execution_count": 39,
   "id": "843aedc3",
   "metadata": {},
   "outputs": [
    {
     "name": "stdout",
     "output_type": "stream",
     "text": [
      "{1, 2, 3, 4, 5, 6}\n",
      "{1, 2, 3, 4, 5, 6}\n"
     ]
    }
   ],
   "source": [
    "# returns a union of two sets, can also use '|' or set.union(set)\n",
    "# joins all numbers, gets rid of duplicates\n",
    "\n",
    "s1 = {1,2,3,4}\n",
    "s2 = {3,4,5,6}\n",
    "\n",
    "s3 = s1.union(s2)\n",
    "\n",
    "print(s3)\n",
    "\n",
    "# OR\n",
    "\n",
    "s4 = s1 | s2\n",
    "print(s4)"
   ]
  },
  {
   "cell_type": "markdown",
   "id": "e4663d4a",
   "metadata": {},
   "source": [
    ".intersection() a set"
   ]
  },
  {
   "cell_type": "code",
   "execution_count": 41,
   "id": "2af57c4d",
   "metadata": {},
   "outputs": [
    {
     "name": "stdout",
     "output_type": "stream",
     "text": [
      "{3, 4}\n",
      "{3, 4}\n"
     ]
    }
   ],
   "source": [
    "# returns an intersection of two sets, can also use '&'\n",
    "# only takes similar elements from both sets\n",
    "\n",
    "s5 = s2 & s1\n",
    "\n",
    "print(s5)\n",
    "\n",
    "# OR\n",
    "\n",
    "s6 = s1.intersection(s2)\n",
    "print(s6)"
   ]
  },
  {
   "cell_type": "markdown",
   "id": "7e1fc3fa",
   "metadata": {},
   "source": [
    ".difference() in a set"
   ]
  },
  {
   "cell_type": "code",
   "execution_count": 42,
   "id": "123f68f3",
   "metadata": {},
   "outputs": [
    {
     "name": "stdout",
     "output_type": "stream",
     "text": [
      "{1, 2, 3, 4}\n",
      "{3, 4, 5, 6}\n",
      "{5, 6}\n",
      "{1, 2}\n"
     ]
    }
   ],
   "source": [
    "# returns a set containing all the elements of invoking set that are not in the second set, can also use '-'\n",
    "# only takes values from the first set that are not in the second set\n",
    "# order matters\n",
    "\n",
    "s7 = s2 - s1\n",
    "\n",
    "# OR\n",
    "\n",
    "s8 = s1.difference(s2)\n",
    "\n",
    "print(s1)\n",
    "print(s2)\n",
    "print(s7)\n",
    "print(s8)"
   ]
  },
  {
   "cell_type": "markdown",
   "id": "97c77b04",
   "metadata": {},
   "source": [
    ".clear() in a set"
   ]
  },
  {
   "cell_type": "code",
   "execution_count": 43,
   "id": "f4175ea9",
   "metadata": {},
   "outputs": [
    {
     "name": "stdout",
     "output_type": "stream",
     "text": [
      "set()\n"
     ]
    }
   ],
   "source": [
    "# empties the whole set\n",
    "# set.clear()\n",
    "\n",
    "s8.clear()\n",
    "print(s8)"
   ]
  },
  {
   "cell_type": "markdown",
   "id": "ba956a00",
   "metadata": {},
   "source": [
    "Frozenset\n",
    "\n",
    "Frozen sets are immutable objects that only support methods and operators that produce a result without affecting the frozen set or sets to which they are applied.\n",
    "\n",
    "Unique & Immutable"
   ]
  },
  {
   "cell_type": "code",
   "execution_count": 45,
   "id": "d19ce38f",
   "metadata": {},
   "outputs": [
    {
     "name": "stdout",
     "output_type": "stream",
     "text": [
      "frozenset({1, 2, 3, 4, 5, 6, 56})\n"
     ]
    },
    {
     "ename": "AttributeError",
     "evalue": "'frozenset' object has no attribute 'add'",
     "output_type": "error",
     "traceback": [
      "\u001b[0;31m---------------------------------------------------------------------------\u001b[0m",
      "\u001b[0;31mAttributeError\u001b[0m                            Traceback (most recent call last)",
      "\u001b[0;32m/var/folders/46/xgfkmqx548z2xc22t05jpgz80000gn/T/ipykernel_59523/2060736557.py\u001b[0m in \u001b[0;36m<module>\u001b[0;34m\u001b[0m\n\u001b[1;32m      5\u001b[0m \u001b[0mprint\u001b[0m\u001b[0;34m(\u001b[0m\u001b[0mmy_frozen_set\u001b[0m\u001b[0;34m)\u001b[0m\u001b[0;34m\u001b[0m\u001b[0;34m\u001b[0m\u001b[0m\n\u001b[1;32m      6\u001b[0m \u001b[0;34m\u001b[0m\u001b[0m\n\u001b[0;32m----> 7\u001b[0;31m \u001b[0mmy_frozen_set\u001b[0m\u001b[0;34m.\u001b[0m\u001b[0madd\u001b[0m\u001b[0;34m(\u001b[0m\u001b[0;36m56\u001b[0m\u001b[0;34m)\u001b[0m\u001b[0;34m\u001b[0m\u001b[0;34m\u001b[0m\u001b[0m\n\u001b[0m",
      "\u001b[0;31mAttributeError\u001b[0m: 'frozenset' object has no attribute 'add'"
     ]
    }
   ],
   "source": [
    "# frozenset([])\n",
    "\n",
    "s3.add(56) # you can do this\n",
    "my_frozen_set = frozenset(s3)\n",
    "print(my_frozen_set)\n",
    "\n",
    "my_frozen_set.add(56) # but not this"
   ]
  },
  {
   "cell_type": "markdown",
   "id": "90b90ca3",
   "metadata": {},
   "source": [
    "Modules\n",
    "\n",
    "Importing Entire Modules"
   ]
  },
  {
   "cell_type": "code",
   "execution_count": 51,
   "id": "1f35eb58",
   "metadata": {},
   "outputs": [
    {
     "name": "stdout",
     "output_type": "stream",
     "text": [
      "3.141592653589793\n",
      "3\n"
     ]
    }
   ],
   "source": [
    "# import or from 'xxx' import *\n",
    "# import math - for example\n",
    "\n",
    "import math\n",
    "\n",
    "\n",
    "print(pi)\n",
    "print(floor(pi))"
   ]
  },
  {
   "cell_type": "markdown",
   "id": "bf5200e1",
   "metadata": {},
   "source": [
    "Importing Methods Only"
   ]
  },
  {
   "cell_type": "code",
   "execution_count": 52,
   "id": "0627bbac",
   "metadata": {},
   "outputs": [
    {
     "name": "stdout",
     "output_type": "stream",
     "text": [
      "3.141592653589793\n",
      "3\n"
     ]
    }
   ],
   "source": [
    "from math import floor, pi\n",
    "\n",
    "print(pi)\n",
    "print(floor(pi))"
   ]
  },
  {
   "cell_type": "markdown",
   "id": "bf82ad12",
   "metadata": {},
   "source": [
    "Using the 'as' Keyword"
   ]
  },
  {
   "cell_type": "code",
   "execution_count": 53,
   "id": "96535b2d",
   "metadata": {},
   "outputs": [
    {
     "name": "stdout",
     "output_type": "stream",
     "text": [
      "3\n"
     ]
    }
   ],
   "source": [
    "# from 'xxx' import 'xxx' as 'xxx' or import 'xxx' as 'xxx'\n",
    "# from math import floor as f - for example\n",
    "\n",
    "from math import floor as f, pi as p\n",
    "\n",
    "print(f(p))"
   ]
  },
  {
   "cell_type": "markdown",
   "id": "ec15450d",
   "metadata": {},
   "source": [
    "Creating a Module"
   ]
  },
  {
   "cell_type": "code",
   "execution_count": 30,
   "id": "0ee0f4f1",
   "metadata": {},
   "outputs": [
    {
     "name": "stdout",
     "output_type": "stream",
     "text": [
      "Hello Mr/Ms Nathan...we've been waiting for you!\n",
      "None\n"
     ]
    }
   ],
   "source": [
    "import module1\n",
    "\n",
    "print(module.printName('Nathan'))"
   ]
  },
  {
   "cell_type": "markdown",
   "id": "48932a4b",
   "metadata": {},
   "source": [
    "Exercises\n",
    "\n",
    "1) Build a Shopping Cart\n",
    "\n",
    "You can use either lists or dictionaries. The program should have the following capabilities:\n",
    "\n",
    "1) Takes in input.\n",
    "2) Stores user input into a dictionary or list.\n",
    "3) The User can add or delete items.\n",
    "4) The User can see current shopping list.\n",
    "5) The program Loops until user \"quits\".\n",
    "6) Upon quitting the program, print out all items in the user's list."
   ]
  },
  {
   "cell_type": "code",
   "execution_count": 6,
   "id": "ce1d2684",
   "metadata": {},
   "outputs": [
    {
     "name": "stdout",
     "output_type": "stream",
     "text": [
      "Enter 'add' to add an item, 'remove' to remove an item, 'show' to show the current list, or 'quit' to exit. Be sure to hit Return after your entry.\n",
      "quit\n",
      "Your shopping cart contains:\n"
     ]
    }
   ],
   "source": [
    "from IPython.display import clear_output\n",
    "\n",
    "# Ask the user four bits of input: Do you want to : Show/Add/Delete or Quit?\n",
    "\n",
    "shopping_cart = {}\n",
    "\n",
    "while True:\n",
    "    print(\"Enter 'add' to add an item, 'remove' to remove an item, 'show' to show the current list, or 'quit' to exit. Be sure to hit Return after your entry.\")\n",
    "    user_input = input()\n",
    "\n",
    "    if user_input == \"add\":\n",
    "        item_name = input(\"Enter the name of the item you want to add: \")\n",
    "        quantity = int(input(\"Enter the quantity, using a number only, of the item you want to add: \"))\n",
    "        price = float(input(\"Enter the price, using only numbers, of the item you want to add: \"))\n",
    "\n",
    "        if item_name in shopping_cart:\n",
    "            shopping_cart[item_name][\"quantity\"] += quantity\n",
    "            shopping_cart[item_name][\"price\"] += price\n",
    "        else:\n",
    "            shopping_cart[item_name] = {\"quantity\": quantity, \"price\": price}\n",
    "\n",
    "    elif user_input == \"remove\":\n",
    "        item_name = input(\"Enter the name of the item you want to remove: \")\n",
    "        if item_name in shopping_cart:\n",
    "            del shopping_cart[item_name]\n",
    "        else:\n",
    "            print(\"Item not found in cart.\")\n",
    "\n",
    "    elif user_input == \"show\":\n",
    "        for item_name in shopping_cart:\n",
    "            print(f\"{item_name}: {shopping_cart[item_name]['quantity']} x ${shopping_cart[item_name]['price']} = ${shopping_cart[item_name]['quantity'] * shopping_cart[item_name]['price']}\")\n",
    "\n",
    "    elif user_input == \"quit\":\n",
    "        print(\"Your shopping cart contains:\")\n",
    "        for item_name in shopping_cart:\n",
    "            print(f\"{item_name}: {shopping_cart[item_name]['quantity']} x ${shopping_cart[item_name]['price']} = ${shopping_cart[item_name]['quantity'] * shopping_cart[item_name]['price']}\")\n",
    "        break\n",
    "\n"
   ]
  },
  {
   "cell_type": "markdown",
   "id": "52fc60a2",
   "metadata": {},
   "source": [
    "2) Create a Module in VS Code and Import it into Jupyter Notebook\n",
    "\n",
    "Module should have the following capabilities:\n",
    "\n",
    "1) Has a function to calculate the square footage of a house. - Reminder of Formula: Length X Width == Area\n",
    "\n",
    "2) Has a function to calculate the circumference of a circle.\n",
    "\n",
    "Program in Jupyter Notebook should take in user input and use imported functions to calculate a circle's circumference or a house's square footage."
   ]
  },
  {
   "cell_type": "code",
   "execution_count": 53,
   "id": "a39ba2f8",
   "metadata": {},
   "outputs": [
    {
     "name": "stdout",
     "output_type": "stream",
     "text": [
      "Enter 'circle' to calculate the circumference of your circle, 'house' to calculate the square footage of your house, or 'quit' to exit: home\n",
      "Invalid entry. Please try again.\n",
      "Enter 'circle' to calculate the circumference of your circle, 'house' to calculate the square footage of your house, or 'quit' to exit: circle\n",
      "Enter the radius of the circle: 2500\n",
      "The circumference of the circle is 15707.963267948966.\n"
     ]
    },
    {
     "ename": "KeyboardInterrupt",
     "evalue": "Interrupted by user",
     "output_type": "error",
     "traceback": [
      "\u001b[0;31m---------------------------------------------------------------------------\u001b[0m",
      "\u001b[0;31mKeyboardInterrupt\u001b[0m                         Traceback (most recent call last)",
      "\u001b[0;32m/var/folders/46/xgfkmqx548z2xc22t05jpgz80000gn/T/ipykernel_2869/625265119.py\u001b[0m in \u001b[0;36m<module>\u001b[0;34m\u001b[0m\n\u001b[1;32m      2\u001b[0m \u001b[0;34m\u001b[0m\u001b[0m\n\u001b[1;32m      3\u001b[0m \u001b[0;32mwhile\u001b[0m \u001b[0;32mTrue\u001b[0m\u001b[0;34m:\u001b[0m\u001b[0;34m\u001b[0m\u001b[0;34m\u001b[0m\u001b[0m\n\u001b[0;32m----> 4\u001b[0;31m     \u001b[0muser_input\u001b[0m \u001b[0;34m=\u001b[0m \u001b[0minput\u001b[0m\u001b[0;34m(\u001b[0m\u001b[0;34m\"Enter 'circle' to calculate the circumference of your circle, 'house' to calculate the square footage of your house, or 'quit' to exit: \"\u001b[0m\u001b[0;34m)\u001b[0m\u001b[0;34m\u001b[0m\u001b[0;34m\u001b[0m\u001b[0m\n\u001b[0m\u001b[1;32m      5\u001b[0m     \u001b[0;32mif\u001b[0m \u001b[0muser_input\u001b[0m \u001b[0;34m==\u001b[0m \u001b[0;34m\"quit\"\u001b[0m\u001b[0;34m:\u001b[0m\u001b[0;34m\u001b[0m\u001b[0;34m\u001b[0m\u001b[0m\n\u001b[1;32m      6\u001b[0m         \u001b[0;32mbreak\u001b[0m\u001b[0;34m\u001b[0m\u001b[0;34m\u001b[0m\u001b[0m\n",
      "\u001b[0;32m~/opt/anaconda3/lib/python3.9/site-packages/ipykernel/kernelbase.py\u001b[0m in \u001b[0;36mraw_input\u001b[0;34m(self, prompt)\u001b[0m\n\u001b[1;32m   1175\u001b[0m                 \u001b[0;34m\"raw_input was called, but this frontend does not support input requests.\"\u001b[0m\u001b[0;34m\u001b[0m\u001b[0;34m\u001b[0m\u001b[0m\n\u001b[1;32m   1176\u001b[0m             )\n\u001b[0;32m-> 1177\u001b[0;31m         return self._input_request(\n\u001b[0m\u001b[1;32m   1178\u001b[0m             \u001b[0mstr\u001b[0m\u001b[0;34m(\u001b[0m\u001b[0mprompt\u001b[0m\u001b[0;34m)\u001b[0m\u001b[0;34m,\u001b[0m\u001b[0;34m\u001b[0m\u001b[0;34m\u001b[0m\u001b[0m\n\u001b[1;32m   1179\u001b[0m             \u001b[0mself\u001b[0m\u001b[0;34m.\u001b[0m\u001b[0m_parent_ident\u001b[0m\u001b[0;34m[\u001b[0m\u001b[0;34m\"shell\"\u001b[0m\u001b[0;34m]\u001b[0m\u001b[0;34m,\u001b[0m\u001b[0;34m\u001b[0m\u001b[0;34m\u001b[0m\u001b[0m\n",
      "\u001b[0;32m~/opt/anaconda3/lib/python3.9/site-packages/ipykernel/kernelbase.py\u001b[0m in \u001b[0;36m_input_request\u001b[0;34m(self, prompt, ident, parent, password)\u001b[0m\n\u001b[1;32m   1217\u001b[0m             \u001b[0;32mexcept\u001b[0m \u001b[0mKeyboardInterrupt\u001b[0m\u001b[0;34m:\u001b[0m\u001b[0;34m\u001b[0m\u001b[0;34m\u001b[0m\u001b[0m\n\u001b[1;32m   1218\u001b[0m                 \u001b[0;31m# re-raise KeyboardInterrupt, to truncate traceback\u001b[0m\u001b[0;34m\u001b[0m\u001b[0;34m\u001b[0m\u001b[0m\n\u001b[0;32m-> 1219\u001b[0;31m                 \u001b[0;32mraise\u001b[0m \u001b[0mKeyboardInterrupt\u001b[0m\u001b[0;34m(\u001b[0m\u001b[0;34m\"Interrupted by user\"\u001b[0m\u001b[0;34m)\u001b[0m \u001b[0;32mfrom\u001b[0m \u001b[0;32mNone\u001b[0m\u001b[0;34m\u001b[0m\u001b[0;34m\u001b[0m\u001b[0m\n\u001b[0m\u001b[1;32m   1220\u001b[0m             \u001b[0;32mexcept\u001b[0m \u001b[0mException\u001b[0m\u001b[0;34m:\u001b[0m\u001b[0;34m\u001b[0m\u001b[0;34m\u001b[0m\u001b[0m\n\u001b[1;32m   1221\u001b[0m                 \u001b[0mself\u001b[0m\u001b[0;34m.\u001b[0m\u001b[0mlog\u001b[0m\u001b[0;34m.\u001b[0m\u001b[0mwarning\u001b[0m\u001b[0;34m(\u001b[0m\u001b[0;34m\"Invalid Message:\"\u001b[0m\u001b[0;34m,\u001b[0m \u001b[0mexc_info\u001b[0m\u001b[0;34m=\u001b[0m\u001b[0;32mTrue\u001b[0m\u001b[0;34m)\u001b[0m\u001b[0;34m\u001b[0m\u001b[0;34m\u001b[0m\u001b[0m\n",
      "\u001b[0;31mKeyboardInterrupt\u001b[0m: Interrupted by user"
     ]
    }
   ],
   "source": [
    "import my_module\n",
    "\n",
    "while True:\n",
    "    user_input = input(\"Enter 'circle' to calculate the circumference of your circle, 'house' to calculate the square footage of your house, or 'quit' to exit: \")\n",
    "    if user_input == \"quit\":\n",
    "        break\n",
    "    elif user_input == \"circle\":\n",
    "        radius = float(input(\"Enter the radius of the circle: \"))\n",
    "        circumference = my_module.calculate_circumference(radius)\n",
    "        print(f\"The circumference of the circle is {circumference}.\")\n",
    "    elif user_input == \"house\":\n",
    "        house = {}\n",
    "        length = float(input(\"Enter the length of your house: \"))\n",
    "        width = float(input(\"Enter the width of your house: \"))\n",
    "        house[\"length\"] = length\n",
    "        house[\"width\"] = width\n",
    "        square_footage = my_module.calculate_square_footage(house)\n",
    "        print(f\"The square footage of your house is {square_footage} square feet.\")\n",
    "    else:\n",
    "        print(\"Invalid entry. Please try again.\")"
   ]
  },
  {
   "cell_type": "code",
   "execution_count": null,
   "id": "5670625a",
   "metadata": {},
   "outputs": [],
   "source": []
  }
 ],
 "metadata": {
  "kernelspec": {
   "display_name": "Python 3 (ipykernel)",
   "language": "python",
   "name": "python3"
  },
  "language_info": {
   "codemirror_mode": {
    "name": "ipython",
    "version": 3
   },
   "file_extension": ".py",
   "mimetype": "text/x-python",
   "name": "python",
   "nbconvert_exporter": "python",
   "pygments_lexer": "ipython3",
   "version": "3.9.13"
  }
 },
 "nbformat": 4,
 "nbformat_minor": 5
}
